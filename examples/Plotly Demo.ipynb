{
 "cells": [
  {
   "cell_type": "markdown",
   "metadata": {},
   "source": [
    "# Plotlyviz features\n",
    "\n",
    "To visualize a Kepler Mapper graph with plotly, we've built some handy constructors to help you.  This notebook will detail some of the features so you are better able to customize the outputs."
   ]
  },
  {
   "cell_type": "code",
   "execution_count": 1,
   "metadata": {},
   "outputs": [],
   "source": [
    "%load_ext autoreload\n",
    "%autoreload 2"
   ]
  },
  {
   "cell_type": "code",
   "execution_count": 2,
   "metadata": {},
   "outputs": [],
   "source": [
    "# Necessary imports\n",
    "\n",
    "import sklearn\n",
    "from sklearn import datasets\n",
    "\n",
    "import kmapper as km\n",
    "from kmapper.plotlyviz import plotlyviz"
   ]
  },
  {
   "cell_type": "code",
   "execution_count": 3,
   "metadata": {},
   "outputs": [],
   "source": [
    "data, labels = datasets.make_circles(n_samples=5000, noise=0.05, factor=0.3)\n",
    "\n",
    "# Initialize\n",
    "mapper = km.KeplerMapper(verbose=0)\n",
    "\n",
    "# Fit to and transform the data\n",
    "lens = mapper.fit_transform(data, projection=[0])\n",
    "\n",
    "# Create dictionary called 'simplicial_complex' with nodes, edges and meta-information\n",
    "simplicial_complex = mapper.map(lens, X=data,\n",
    "                                cover=km.Cover(n_cubes=20, perc_overlap=0.1))"
   ]
  },
  {
   "cell_type": "markdown",
   "metadata": {},
   "source": [
    "## Basic Usage\n",
    "\n",
    "All plotly outputs come with node node tooltips that display the cluster id and basic graph information. "
   ]
  },
  {
   "cell_type": "code",
   "execution_count": 4,
   "metadata": {},
   "outputs": [
    {
     "data": {
      "application/vnd.jupyter.widget-view+json": {
       "model_id": "0c452d0c85ef46788ec2b71a23988565",
       "version_major": 2,
       "version_minor": 0
      },
      "text/plain": [
       "FigureWidget({\n",
       "    'data': [{'hoverinfo': 'none',\n",
       "              'line': {'color': 'rgb(180,180,180)', 'width':…"
      ]
     },
     "metadata": {},
     "output_type": "display_data"
    }
   ],
   "source": [
    "plotlyviz(simplicial_complex, title=\"Basic plot\")"
   ]
  },
  {
   "cell_type": "markdown",
   "metadata": {},
   "source": [
    "## Dashboards\n",
    "\n",
    "To see more information about each of the nodes, you can use parameters `dashboard=True` or `vbox=True` to include node histograms and node membership data.\n",
    "\n",
    "Hover the graph nodes in the next cell to see their  distribution in the right figure. Under the graphs notice the contents of two text widgets:  the cluster size, repsctively the member ids or their labels."
   ]
  },
  {
   "cell_type": "code",
   "execution_count": 5,
   "metadata": {},
   "outputs": [
    {
     "data": {
      "application/vnd.jupyter.widget-view+json": {
       "model_id": "1dad67559ffe47979a3e63a69ed5c8b3",
       "version_major": 2,
       "version_minor": 0
      },
      "text/plain": [
       "VBox(children=(HBox(children=(FigureWidget({\n",
       "    'data': [{'hoverinfo': 'none',\n",
       "              'line': {'color'…"
      ]
     },
     "metadata": {},
     "output_type": "display_data"
    }
   ],
   "source": [
    "plotlyviz(simplicial_complex, title=\"Dashboard plot\", dashboard=True)"
   ]
  },
  {
   "cell_type": "code",
   "execution_count": 6,
   "metadata": {},
   "outputs": [
    {
     "data": {
      "application/vnd.jupyter.widget-view+json": {
       "model_id": "dae7044e83dc46b9b8ecd68aba5d0b93",
       "version_major": 2,
       "version_minor": 0
      },
      "text/plain": [
       "VBox(children=(FigureWidget({\n",
       "    'data': [{'hoverinfo': 'none',\n",
       "              'line': {'color': 'rgb(180,180,…"
      ]
     },
     "metadata": {},
     "output_type": "display_data"
    }
   ],
   "source": [
    "plotlyviz(simplicial_complex, title=\"Dashboard plot\", graph_data=True)"
   ]
  },
  {
   "cell_type": "markdown",
   "metadata": {},
   "source": [
    "# Color palettes\n",
    "\n",
    "You can define new color palettes using the plotly specs for this.\n",
    "\n",
    "To color the graph nodes or the bars in the node distribution we can choose a Plotly colorscale. The default colorscale\n",
    "set in  `kmapper.plotlyviz`  is Viridis. `Viridis` is the choice over `Jet` colorscale, by the data visuzlization community, \n",
    "because Jet doesn't meet scientific standards concerning  luminance gradient, and more. \n",
    "It is just colorful but doesn't convey right information.\n",
    " \n",
    "Viridis is the default colormap in Matplotlib and  R. Matlab also changed Jet  by Parula.\n",
    "\n",
    " A Plotly colorscale is a list of lists, and each inner list contains a float number in [0,1], and a color code.\n",
    "    The color codes\n",
    "however are not tuples of float values in [0,1], like in `matplotlib`, but tuples of integers (`np.uint8`) between 0 and 255.\n",
    "or hex colorcodes. \n"
   ]
  },
  {
   "cell_type": "code",
   "execution_count": 7,
   "metadata": {},
   "outputs": [],
   "source": [
    "pl_matter = [[0.0, 'rgb(253, 237, 176)'], #derived from cmocean.cm.matter https://matplotlib.org/cmocean/\n",
    "             [0.1, 'rgb(250, 202, 143)'],\n",
    "             [0.2, 'rgb(245, 166, 114)'],\n",
    "             [0.3, 'rgb(238, 132, 93)'],\n",
    "             [0.4, 'rgb(226, 97, 82)'],\n",
    "             [0.5, 'rgb(206, 67, 86)'],\n",
    "             [0.6, 'rgb(179, 46, 94)'],\n",
    "             [0.7, 'rgb(147, 31, 99)'],\n",
    "             [0.8, 'rgb(114, 25, 95)'],\n",
    "             [0.9, 'rgb(79, 21, 82)'],\n",
    "             [1.0, 'rgb(47, 15, 61)']]\n",
    "\n",
    "pl_brewer = [[0.0, '#006837'], #from green to red  http://colorbrewer2.org/#type=diverging&scheme=RdYlGn&n=11\n",
    "             [0.1, '#1a9850'],\n",
    "             [0.2, '#66bd63'],\n",
    "             [0.3, '#a6d96a'],\n",
    "             [0.4, '#d9ef8b'],\n",
    "             [0.5, '#ffffbf'],\n",
    "             [0.6, '#fee08b'],\n",
    "             [0.7, '#fdae61'],\n",
    "             [0.8, '#f46d43'],\n",
    "             [0.9, '#d73027'],\n",
    "             [1.0, '#a50026']]\n",
    "\n",
    "pl_jet = [[0.0, 'rgb(0, 0, 127)'], #derived for matplotlib jet\n",
    "          [0.1, 'rgb(0, 0, 241)'],\n",
    "          [0.2, 'rgb(0, 76, 255)'],\n",
    "          [0.3, 'rgb(0, 176, 255)'],\n",
    "          [0.4, 'rgb(41, 255, 205)'],\n",
    "          [0.5, 'rgb(124, 255, 121)'],\n",
    "          [0.6, 'rgb(205, 255, 41)'],\n",
    "          [0.7, 'rgb(255, 196, 0)'],\n",
    "          [0.8, 'rgb(255, 103, 0)'],\n",
    "          [0.9, 'rgb(241, 7, 0)'],\n",
    "          [1.0, 'rgb(127, 0, 0)']]"
   ]
  },
  {
   "cell_type": "code",
   "execution_count": 8,
   "metadata": {},
   "outputs": [
    {
     "data": {
      "application/vnd.jupyter.widget-view+json": {
       "model_id": "03181e0cbe5046c69e7d2d478d24550c",
       "version_major": 2,
       "version_minor": 0
      },
      "text/plain": [
       "VBox(children=(HBox(children=(FigureWidget({\n",
       "    'data': [{'hoverinfo': 'none',\n",
       "              'line': {'color'…"
      ]
     },
     "metadata": {},
     "output_type": "display_data"
    }
   ],
   "source": [
    "plotlyviz(simplicial_complex, colorscale=pl_matter, title=\"Dashboard plot\", dashboard=True)"
   ]
  },
  {
   "cell_type": "markdown",
   "metadata": {},
   "source": [
    "### Construct plotly scales from Matplotlib"
   ]
  },
  {
   "cell_type": "code",
   "execution_count": 14,
   "metadata": {},
   "outputs": [],
   "source": [
    "import numpy as np\n",
    "import matplotlib.cm as cm\n",
    "import cmocean # https://matplotlib.org/cmocean/"
   ]
  },
  {
   "cell_type": "code",
   "execution_count": 15,
   "metadata": {},
   "outputs": [],
   "source": [
    "from kmapper.plotlyviz import mpl_to_plotly\n",
    "\n",
    "plotly_RdYlBu = mpl_to_plotly(cm.RdYlBu, 11)\n",
    "plotly_delta = mpl_to_plotly(cmocean.cm.delta, 11) "
   ]
  },
  {
   "cell_type": "code",
   "execution_count": 17,
   "metadata": {},
   "outputs": [
    {
     "data": {
      "application/vnd.jupyter.widget-view+json": {
       "model_id": "698206a4905c448c8cf2934c25bd8f98",
       "version_major": 2,
       "version_minor": 0
      },
      "text/plain": [
       "VBox(children=(HBox(children=(FigureWidget({\n",
       "    'data': [{'hoverinfo': 'none',\n",
       "              'line': {'color'…"
      ]
     },
     "metadata": {},
     "output_type": "display_data"
    }
   ],
   "source": [
    "plotlyviz(simplicial_complex, colorscale=plotly_RdYlBu, title=\"Dashboard plot\", dashboard=True)"
   ]
  },
  {
   "cell_type": "code",
   "execution_count": 16,
   "metadata": {},
   "outputs": [
    {
     "data": {
      "application/vnd.jupyter.widget-view+json": {
       "model_id": "81c1171270e542bea8b36bf8a541758d",
       "version_major": 2,
       "version_minor": 0
      },
      "text/plain": [
       "VBox(children=(HBox(children=(FigureWidget({\n",
       "    'data': [{'hoverinfo': 'none',\n",
       "              'line': {'color'…"
      ]
     },
     "metadata": {},
     "output_type": "display_data"
    }
   ],
   "source": [
    "plotlyviz(simplicial_complex, colorscale=plotly_delta, title=\"Dashboard plot\", dashboard=True)"
   ]
  },
  {
   "cell_type": "markdown",
   "metadata": {},
   "source": [
    "# Different Layouts\n",
    "\n",
    "The default layout is Kamada-Kawai. It is possible to specify other layouts to use with the `graph_layout` keyword argument.\n",
    "\n",
    "Currently, the two supported options are Kamada-Kawaii by `'kk'` and Furchtenberg-Reingold by `fr`."
   ]
  },
  {
   "cell_type": "code",
   "execution_count": null,
   "metadata": {},
   "outputs": [],
   "source": [
    "plotlyviz(simplicial_complex, graph_layout='fr', title='Kepler-Mapper graph for circles dataset with<br> Fruchtenberg-Reingold layout')"
   ]
  },
  {
   "cell_type": "markdown",
   "metadata": {},
   "source": [
    "## Save figure\n",
    "\n",
    "To save the figure, just include an argument `filename=<your filename>` to the constructor. You can save as a png, pdf, svg image file, as well as eps file (the eps files cannot be\n",
    "defined/saved under the  Windows OS).\n",
    "\n",
    "**Warning** You'll need to have the `psutil` package installed. You can use either pip or conda for this."
   ]
  },
  {
   "cell_type": "code",
   "execution_count": null,
   "metadata": {},
   "outputs": [],
   "source": [
    "plotlyviz(simplicial_complex, colorscale=pl_matter, title=\"Dashboard plot\", filename=\"my_circles_export.pdf\")"
   ]
  },
  {
   "cell_type": "markdown",
   "metadata": {},
   "source": [
    "# Further customization\n",
    "\n",
    "We've supplied one nice function to handle the sanest defaults for you convenience. If you find yourself needing further customization, look at the code in `plotlyviz()` function and customize at will. If you build a new constructor you find helpful, we would be thrilled if you added it to the package and sent us a pull request."
   ]
  },
  {
   "cell_type": "code",
   "execution_count": null,
   "metadata": {},
   "outputs": [],
   "source": []
  }
 ],
 "metadata": {
  "kernelspec": {
   "display_name": "Python 3",
   "language": "python",
   "name": "python3"
  },
  "language_info": {
   "codemirror_mode": {
    "name": "ipython",
    "version": 3
   },
   "file_extension": ".py",
   "mimetype": "text/x-python",
   "name": "python",
   "nbconvert_exporter": "python",
   "pygments_lexer": "ipython3",
   "version": "3.6.4"
  }
 },
 "nbformat": 4,
 "nbformat_minor": 2
}
